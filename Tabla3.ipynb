{
 "cells": [
  {
   "cell_type": "code",
   "execution_count": 2,
   "metadata": {
    "collapsed": true
   },
   "outputs": [],
   "source": [
    "import os\n",
    "import numpy as np\n",
    "import scipy as sp\n",
    "import pandas as pd\n",
    "import networkx as nx\n",
    "import matplotlib.pylab as plt\n",
    "\n",
    "%matplotlib inline\n",
    "\n",
    "from urllib.request import urlopen\n",
    "from pathlib import Path\n",
    "from collections import defaultdict\n",
    "from random import choice\n",
    "from random import sample"
   ]
  },
  {
   "cell_type": "code",
   "execution_count": 3,
   "metadata": {},
   "outputs": [],
   "source": [
    "red_lit = nx.read_edgelist('./Material_de_interes/tc02Data/yeast_LIT.txt')\n",
    "red_apms = nx.read_edgelist('./Material_de_interes/tc02Data/yeast_AP-MS.txt')\n",
    "red_bin = nx.read_edgelist('./Material_de_interes/tc02Data/yeast_Y2H.txt')"
   ]
  },
  {
   "cell_type": "code",
   "execution_count": 4,
   "metadata": {
    "collapsed": true
   },
   "outputs": [],
   "source": [
    "escenciales = open('./Datos/Essential_ORFs_paperHe2.txt')\n",
    "lista_escenciales = []\n",
    "\n",
    "for line in escenciales:\n",
    "    lista_escenciales.append(line.rstrip('\\n'))"
   ]
  },
  {
   "cell_type": "code",
   "execution_count": 5,
   "metadata": {
    "collapsed": true
   },
   "outputs": [],
   "source": [
    "def nodos_esenciales(red, lista_atr = lista_escenciales, atributo = 'Esencial'):\n",
    "    \n",
    "    dict_vacio = dict()\n",
    "    nx.set_node_attributes(red, dict_vacio.fromkeys(list(red.nodes()),0), atributo )\n",
    "    \n",
    "    for nodo in lista_atr:\n",
    "        try:\n",
    "            red.nodes[nodo][atributo] = 1\n",
    "        except KeyError:\n",
    "            continue\n",
    "            \n",
    "    return None"
   ]
  },
  {
   "cell_type": "code",
   "execution_count": 6,
   "metadata": {
    "collapsed": true
   },
   "outputs": [],
   "source": [
    "nodos_esenciales(red_lit)\n",
    "nodos_esenciales(red_bin)\n",
    "nodos_esenciales(red_apms)"
   ]
  },
  {
   "cell_type": "code",
   "execution_count": 7,
   "metadata": {
    "collapsed": true
   },
   "outputs": [],
   "source": [
    "def nodosEsenciales(red, esenciales = lista_escenciales, atributo = 'Esencial'):\n",
    "    red_aux = red.copy()\n",
    "    red_aux.remove_nodes_from(list(nodosNoEsenciales(red).nodes()))\n",
    "    return red_aux.nodes()"
   ]
  },
  {
   "cell_type": "code",
   "execution_count": 8,
   "metadata": {
    "collapsed": true
   },
   "outputs": [],
   "source": [
    "def nodosNoEsenciales(red, esenciales = lista_escenciales):\n",
    "    red_aux = red.copy()\n",
    "    red_aux.remove_nodes_from(esenciales)\n",
    "    return red_aux"
   ]
  },
  {
   "cell_type": "code",
   "execution_count": 9,
   "metadata": {
    "collapsed": true
   },
   "outputs": [],
   "source": [
    "def sacarEsenciales(red):\n",
    "    red_aux = red.copy()\n",
    "    GC = max(nx.connected_component_subgraphs(red_aux), key=len)\n",
    "    n = GC.number_of_nodes()\n",
    "    red_aux.remove_nodes_from(list(nodosEsenciales(red)))\n",
    "    GC = max(nx.connected_component_subgraphs(red_aux), key=len)\n",
    "    m = GC.number_of_nodes()\n",
    "    return m/n"
   ]
  },
  {
   "cell_type": "code",
   "execution_count": 66,
   "metadata": {},
   "outputs": [
    {
     "data": {
      "text/plain": [
       "0.281121187139324"
      ]
     },
     "execution_count": 66,
     "metadata": {},
     "output_type": "execute_result"
    }
   ],
   "source": [
    "sacarEsenciales(red_lit)"
   ]
  },
  {
   "cell_type": "code",
   "execution_count": 10,
   "metadata": {},
   "outputs": [],
   "source": [
    "def sampleNodos(red,dic1,dic2,k,q,dif1=0):\n",
    "    if dif1 == 0:\n",
    "        dif1 = dic1[k][1]\n",
    "    try:\n",
    "        dif2 = dic1[q][0] - dif1\n",
    "        sample_nodos = sample(dic2[q],dif1)\n",
    "        red.remove_nodes_from(sample_nodos)\n",
    "        if dif2 <= 0:\n",
    "            return None\n",
    "        else:\n",
    "            sampleNodos(red,dic1,dic2,k,q-1,dif1=dif2)\n",
    "            \n",
    "    except:\n",
    "        sampleNodos(red,dic1,dic2,k,q-1,dif1=0)"
   ]
  },
  {
   "cell_type": "code",
   "execution_count": 11,
   "metadata": {
    "collapsed": true
   },
   "outputs": [],
   "source": [
    "def randomNoEsenciales(red):\n",
    "    red_aux = red.copy()\n",
    "    n = red.number_of_nodes()\n",
    "    \n",
    "    degs = sorted(dict(red.degree()).values(), reverse=True)\n",
    "    nodos = dict(red.nodes(data=True))\n",
    "    grados = {d: [0,0] for d in degs}\n",
    "    noEsencXGrado = defaultdict(list)\n",
    "    for nodo, deg in red.degree():\n",
    "        grados[deg][0] += nodos[nodo]['Esencial']\n",
    "        grados[deg][1] += 1-nodos[nodo]['Esencial']\n",
    "        if (not nodos[nodo]['Esencial']):\n",
    "            noEsencXGrado[deg].append(nodo)\n",
    "    grad = sorted(list(grados.keys()))\n",
    "    for grado in grad:\n",
    "        sampleNodos(red_aux,grados,noEsencXGrado,grado,grado,dif1=0)\n",
    "    return red_aux.number_of_nodes()/n"
   ]
  },
  {
   "cell_type": "code",
   "execution_count": null,
   "metadata": {},
   "outputs": [
    {
     "name": "stderr",
     "output_type": "stream",
     "text": [
      "ERROR:root:Internal Python error in the inspect module.\n",
      "Below is the traceback from this internal error.\n",
      "\n",
      "ERROR:root:Internal Python error in the inspect module.\n",
      "Below is the traceback from this internal error.\n",
      "\n"
     ]
    }
   ],
   "source": [
    "randomNoEsenciales(red_lit)"
   ]
  },
  {
   "cell_type": "code",
   "execution_count": 14,
   "metadata": {},
   "outputs": [
    {
     "data": {
      "text/plain": [
       "1536"
      ]
     },
     "execution_count": 14,
     "metadata": {},
     "output_type": "execute_result"
    }
   ],
   "source": [
    "red_lit.number_of_nodes()"
   ]
  }
 ],
 "metadata": {
  "kernelspec": {
   "display_name": "Python 3",
   "language": "python",
   "name": "python3"
  },
  "language_info": {
   "codemirror_mode": {
    "name": "ipython",
    "version": 3
   },
   "file_extension": ".py",
   "mimetype": "text/x-python",
   "name": "python",
   "nbconvert_exporter": "python",
   "pygments_lexer": "ipython3",
   "version": "3.6.3"
  }
 },
 "nbformat": 4,
 "nbformat_minor": 2
}
