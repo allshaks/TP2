{
 "cells": [
  {
   "cell_type": "code",
   "execution_count": 52,
   "metadata": {
    "scrolled": true
   },
   "outputs": [],
   "source": [
    "import os\n",
    "import numpy as np\n",
    "import scipy as sp\n",
    "import pandas as pd\n",
    "import networkx as nx\n",
    "import matplotlib.pylab as plt\n",
    "\n",
    "%matplotlib inline\n",
    "\n",
    "from urllib.request import urlopen\n",
    "from pathlib import Path\n",
    "from collections import defaultdict\n",
    "from random import choice"
   ]
  },
  {
   "cell_type": "markdown",
   "metadata": {},
   "source": [
    "## Carga de datos"
   ]
  },
  {
   "cell_type": "code",
   "execution_count": 2,
   "metadata": {},
   "outputs": [],
   "source": [
    "red_lit = nx.read_edgelist('./Material_de_interes/tc02Data/yeast_LIT.txt')\n",
    "red_apms = nx.read_edgelist('./Material_de_interes/tc02Data/yeast_AP-MS.txt')\n",
    "red_bin = nx.read_edgelist('./Material_de_interes/tc02Data/yeast_Y2H.txt')"
   ]
  },
  {
   "cell_type": "code",
   "execution_count": 3,
   "metadata": {},
   "outputs": [],
   "source": [
    "escenciales = open('./Datos/Essential_ORFs_paperHe2.txt')\n",
    "lista_escenciales = []\n",
    "\n",
    "for line in escenciales:\n",
    "    lista_escenciales.append(line.rstrip('\\n'))\n",
    "    "
   ]
  },
  {
   "cell_type": "code",
   "execution_count": 4,
   "metadata": {},
   "outputs": [],
   "source": [
    "def nodos_esenciales(red, lista_atr = lista_escenciales, atributo = 'Esencial'):\n",
    "    \n",
    "    dict_vacio = dict()\n",
    "    nx.set_node_attributes(red, dict_vacio.fromkeys(list(red.nodes()),0), atributo )\n",
    "    \n",
    "    for nodo in lista_atr:\n",
    "        try:\n",
    "            red.nodes[nodo][atributo] = 1\n",
    "        except KeyError:\n",
    "            continue\n",
    "            \n",
    "    return None"
   ]
  },
  {
   "cell_type": "code",
   "execution_count": 5,
   "metadata": {},
   "outputs": [],
   "source": [
    "nodos_esenciales(red_lit)\n",
    "nodos_esenciales(red_bin)\n",
    "nodos_esenciales(red_apms)"
   ]
  },
  {
   "cell_type": "code",
   "execution_count": 6,
   "metadata": {},
   "outputs": [],
   "source": [
    "red_df = pd.read_csv('./Material_de_interes/tc02Data/yeast_LIT_Reguly.txt',sep=\"\\t\", header=0)"
   ]
  },
  {
   "cell_type": "code",
   "execution_count": 7,
   "metadata": {
    "scrolled": true
   },
   "outputs": [
    {
     "data": {
      "text/html": [
       "<div>\n",
       "<style>\n",
       "    .dataframe thead tr:only-child th {\n",
       "        text-align: right;\n",
       "    }\n",
       "\n",
       "    .dataframe thead th {\n",
       "        text-align: left;\n",
       "    }\n",
       "\n",
       "    .dataframe tbody tr th {\n",
       "        vertical-align: top;\n",
       "    }\n",
       "</style>\n",
       "<table border=\"1\" class=\"dataframe\">\n",
       "  <thead>\n",
       "    <tr style=\"text-align: right;\">\n",
       "      <th></th>\n",
       "      <th>Bait gene/protein</th>\n",
       "      <th>Hit gene/protein</th>\n",
       "      <th>Bait Standard Name</th>\n",
       "      <th>Hit Standard Name</th>\n",
       "      <th>Experimental System</th>\n",
       "      <th>Source</th>\n",
       "      <th>PubMed ID</th>\n",
       "    </tr>\n",
       "  </thead>\n",
       "  <tbody>\n",
       "    <tr>\n",
       "      <th>0</th>\n",
       "      <td>YBR236C</td>\n",
       "      <td>YML010W</td>\n",
       "      <td>ABD1</td>\n",
       "      <td>SPT5</td>\n",
       "      <td>Affinity Capture-MS</td>\n",
       "      <td>Lindstrom DL et al</td>\n",
       "      <td>12556496</td>\n",
       "    </tr>\n",
       "    <tr>\n",
       "      <th>1</th>\n",
       "      <td>YML010W</td>\n",
       "      <td>YBR236C</td>\n",
       "      <td>SPT5</td>\n",
       "      <td>ABD1</td>\n",
       "      <td>Affinity Capture-MS</td>\n",
       "      <td>Lindstrom DL et al</td>\n",
       "      <td>12556496</td>\n",
       "    </tr>\n",
       "    <tr>\n",
       "      <th>2</th>\n",
       "      <td>YDR448W</td>\n",
       "      <td>YPL254W</td>\n",
       "      <td>ADA2</td>\n",
       "      <td>HFI1</td>\n",
       "      <td>Affinity Capture-MS</td>\n",
       "      <td>Rodriguez-Navarro S et al</td>\n",
       "      <td>14718168</td>\n",
       "    </tr>\n",
       "    <tr>\n",
       "      <th>3</th>\n",
       "      <td>YDR448W</td>\n",
       "      <td>YDR176W</td>\n",
       "      <td>ADA2</td>\n",
       "      <td>NGG1</td>\n",
       "      <td>Affinity Capture-MS</td>\n",
       "      <td>Rodriguez-Navarro S et al</td>\n",
       "      <td>14718168</td>\n",
       "    </tr>\n",
       "    <tr>\n",
       "      <th>4</th>\n",
       "      <td>YDR448W</td>\n",
       "      <td>YOR257W</td>\n",
       "      <td>ADA2</td>\n",
       "      <td>CDC31</td>\n",
       "      <td>Affinity Capture-MS</td>\n",
       "      <td>Rodriguez-Navarro S et al</td>\n",
       "      <td>14718168</td>\n",
       "    </tr>\n",
       "  </tbody>\n",
       "</table>\n",
       "</div>"
      ],
      "text/plain": [
       "  Bait gene/protein Hit gene/protein Bait Standard Name Hit Standard Name  \\\n",
       "0           YBR236C          YML010W               ABD1              SPT5   \n",
       "1           YML010W          YBR236C               SPT5              ABD1   \n",
       "2           YDR448W          YPL254W               ADA2              HFI1   \n",
       "3           YDR448W          YDR176W               ADA2              NGG1   \n",
       "4           YDR448W          YOR257W               ADA2             CDC31   \n",
       "\n",
       "   Experimental System                     Source  PubMed ID  \n",
       "0  Affinity Capture-MS         Lindstrom DL et al   12556496  \n",
       "1  Affinity Capture-MS         Lindstrom DL et al   12556496  \n",
       "2  Affinity Capture-MS  Rodriguez-Navarro S et al   14718168  \n",
       "3  Affinity Capture-MS  Rodriguez-Navarro S et al   14718168  \n",
       "4  Affinity Capture-MS  Rodriguez-Navarro S et al   14718168  "
      ]
     },
     "execution_count": 7,
     "metadata": {},
     "output_type": "execute_result"
    }
   ],
   "source": [
    "red_df.head()"
   ]
  },
  {
   "cell_type": "markdown",
   "metadata": {},
   "source": [
    "## B) Características de las redes"
   ]
  },
  {
   "cell_type": "markdown",
   "metadata": {},
   "source": [
    "#### Tabla 1"
   ]
  },
  {
   "cell_type": "code",
   "execution_count": 8,
   "metadata": {},
   "outputs": [],
   "source": [
    "import herramientas_redes as hr"
   ]
  },
  {
   "cell_type": "code",
   "execution_count": 9,
   "metadata": {},
   "outputs": [],
   "source": [
    "redes = [red_apms, red_bin, red_lit]\n",
    "props = []\n",
    "\n",
    "for red in redes:\n",
    "    props.append(hr.propiedades(red))\n",
    "sRed = ['Red AP-MS','Red Y2H', 'Red Literatura']"
   ]
  },
  {
   "cell_type": "code",
   "execution_count": 11,
   "metadata": {
    "scrolled": true
   },
   "outputs": [
    {
     "data": {
      "text/html": [
       "<div>\n",
       "<style>\n",
       "    .dataframe thead tr:only-child th {\n",
       "        text-align: right;\n",
       "    }\n",
       "\n",
       "    .dataframe thead th {\n",
       "        text-align: left;\n",
       "    }\n",
       "\n",
       "    .dataframe tbody tr th {\n",
       "        vertical-align: top;\n",
       "    }\n",
       "</style>\n",
       "<table border=\"1\" class=\"dataframe\">\n",
       "  <thead>\n",
       "    <tr style=\"text-align: right;\">\n",
       "      <th></th>\n",
       "      <th>Clustering medio</th>\n",
       "      <th>Enlaces</th>\n",
       "      <th>Grado promedio</th>\n",
       "      <th>Nodos</th>\n",
       "    </tr>\n",
       "  </thead>\n",
       "  <tbody>\n",
       "    <tr>\n",
       "      <th>Red AP-MS</th>\n",
       "      <td>0.554636</td>\n",
       "      <td>9070</td>\n",
       "      <td>11.183724</td>\n",
       "      <td>1622</td>\n",
       "    </tr>\n",
       "    <tr>\n",
       "      <th>Red Y2H</th>\n",
       "      <td>0.046194</td>\n",
       "      <td>2930</td>\n",
       "      <td>2.903865</td>\n",
       "      <td>2018</td>\n",
       "    </tr>\n",
       "    <tr>\n",
       "      <th>Red Literatura</th>\n",
       "      <td>0.292492</td>\n",
       "      <td>2925</td>\n",
       "      <td>3.808594</td>\n",
       "      <td>1536</td>\n",
       "    </tr>\n",
       "  </tbody>\n",
       "</table>\n",
       "</div>"
      ],
      "text/plain": [
       "                Clustering medio  Enlaces  Grado promedio  Nodos\n",
       "Red AP-MS               0.554636     9070       11.183724   1622\n",
       "Red Y2H                 0.046194     2930        2.903865   2018\n",
       "Red Literatura          0.292492     2925        3.808594   1536"
      ]
     },
     "execution_count": 11,
     "metadata": {},
     "output_type": "execute_result"
    }
   ],
   "source": [
    "pd.DataFrame(props, index=sRed).drop(['Densidad', 'Diámetro', 'Grado max', 'Grado min', 'Transitividad'], axis = 1)"
   ]
  },
  {
   "cell_type": "markdown",
   "metadata": {},
   "source": [
    "#### Tabla 2"
   ]
  },
  {
   "cell_type": "code",
   "execution_count": 12,
   "metadata": {},
   "outputs": [],
   "source": [
    "def overlap_enlaces(red1, red2):\n",
    "    \n",
    "    nodos = set(list(red1.nodes())+list(red2.nodes()))\n",
    "    counter = 0\n",
    "    for nodo in nodos:\n",
    "        try:\n",
    "            l1 = list(red1[nodo])\n",
    "            l2 = list(red2[nodo])\n",
    "            if l1 and l2:\n",
    "                counter += len(hr.intersect(l1,l2))\n",
    "        except KeyError:\n",
    "            continue\n",
    "    cantidad = counter/2\n",
    "    \n",
    "    return [ cantidad/ red1.number_of_edges(), cantidad/ red2.number_of_edges()]"
   ]
  },
  {
   "cell_type": "code",
   "execution_count": 13,
   "metadata": {},
   "outputs": [],
   "source": [
    "lista_apms_lit = overlap_enlaces(red_apms, red_lit)\n",
    "lista_lit_y2h = overlap_enlaces(red_lit,red_bin)\n",
    "lista_y2h_apms = overlap_enlaces(red_bin,red_apms)"
   ]
  },
  {
   "cell_type": "code",
   "execution_count": 14,
   "metadata": {},
   "outputs": [],
   "source": [
    "tabla = pd.DataFrame(np.nan, columns = sRed, index = sRed)\n",
    "tabla.loc['Red AP-MS']['Red Y2H'] = lista_y2h_apms[1]\n",
    "tabla.loc['Red Y2H']['Red AP-MS'] = lista_y2h_apms[0]\n",
    "tabla.loc['Red AP-MS']['Red Literatura'] = lista_apms_lit[0]\n",
    "tabla.loc['Red Literatura']['Red AP-MS'] = lista_apms_lit[1]\n",
    "tabla.loc['Red Literatura']['Red Y2H'] = lista_lit_y2h[0]\n",
    "tabla.loc['Red Y2H']['Red Literatura'] = lista_lit_y2h[1]\n",
    "tabla.loc['Red Y2H']['Red Y2H'] = 1 #'Red Y2H'\n",
    "tabla.loc['Red Literatura']['Red Literatura'] = 1 #'Red Literatura'\n",
    "tabla.loc['Red AP-MS']['Red AP-MS'] = 1 #'Red AP-MS'"
   ]
  },
  {
   "cell_type": "code",
   "execution_count": 15,
   "metadata": {},
   "outputs": [
    {
     "data": {
      "text/html": [
       "<div>\n",
       "<style>\n",
       "    .dataframe thead tr:only-child th {\n",
       "        text-align: right;\n",
       "    }\n",
       "\n",
       "    .dataframe thead th {\n",
       "        text-align: left;\n",
       "    }\n",
       "\n",
       "    .dataframe tbody tr th {\n",
       "        vertical-align: top;\n",
       "    }\n",
       "</style>\n",
       "<table border=\"1\" class=\"dataframe\">\n",
       "  <thead>\n",
       "    <tr style=\"text-align: right;\">\n",
       "      <th></th>\n",
       "      <th>Red AP-MS</th>\n",
       "      <th>Red Y2H</th>\n",
       "      <th>Red Literatura</th>\n",
       "    </tr>\n",
       "  </thead>\n",
       "  <tbody>\n",
       "    <tr>\n",
       "      <th>Red AP-MS</th>\n",
       "      <td>1.000000</td>\n",
       "      <td>0.028666</td>\n",
       "      <td>0.143109</td>\n",
       "    </tr>\n",
       "    <tr>\n",
       "      <th>Red Y2H</th>\n",
       "      <td>0.088737</td>\n",
       "      <td>1.000000</td>\n",
       "      <td>0.087201</td>\n",
       "    </tr>\n",
       "    <tr>\n",
       "      <th>Red Literatura</th>\n",
       "      <td>0.443761</td>\n",
       "      <td>0.087350</td>\n",
       "      <td>1.000000</td>\n",
       "    </tr>\n",
       "  </tbody>\n",
       "</table>\n",
       "</div>"
      ],
      "text/plain": [
       "                Red AP-MS   Red Y2H  Red Literatura\n",
       "Red AP-MS        1.000000  0.028666        0.143109\n",
       "Red Y2H          0.088737  1.000000        0.087201\n",
       "Red Literatura   0.443761  0.087350        1.000000"
      ]
     },
     "execution_count": 15,
     "metadata": {},
     "output_type": "execute_result"
    }
   ],
   "source": [
    "tabla"
   ]
  },
  {
   "cell_type": "markdown",
   "metadata": {},
   "source": [
    "#### Tabla 3"
   ]
  },
  {
   "cell_type": "code",
   "execution_count": 16,
   "metadata": {},
   "outputs": [],
   "source": [
    "redes = [red_lit, red_apms, red_bin]\n",
    "grados = [dict(),dict(),dict()]\n",
    "x = [list,list,list]\n",
    "y = [list,list,list]\n",
    "\n",
    "for i in range(3):\n",
    "    # Set ordenado de mayor a menor de los grados.\n",
    "    degs = sorted(set(dict(redes[i].degree()).values()), reverse=True)\n",
    "    # Diccionario con la data de los nodos, de donde se saca si son esenciales o no.\n",
    "    esc = dict(redes[i].nodes(data=True))\n",
    "    #nodos_grado = defaultdict(list)\n",
    "    # Diccionario donde las keys son los grados y los values son dos números. El primero\n",
    "    # está relacionado con la cantidad de nodos por grado, el segundo con la cantidad\n",
    "    # de esenciales por grado.\n",
    "    grados[i] = {d: [0,0] for d in degs}\n",
    "    for nodo, deg in redes[i].degree():\n",
    "        grados[i][deg][0] += 1\n",
    "        # Suma uno si el nodo es esencial.\n",
    "        grados[i][deg][1] += esc[nodo]['Esencial']\n",
    "        #nodos_grado[deg].append(nodo)\n",
    "        \n",
    "# Ahora cambia la lista de [nodos, esenciales] por [% de nodos, %esenciales], y va acumulando.\n",
    "for i in range(3):\n",
    "    n = redes[i].number_of_nodes()\n",
    "    acumNodos = 0\n",
    "    acumEsc = 0\n",
    "    for grado in grados[i]:\n",
    "        acumNodos += grados[i][grado][0]\n",
    "        acumEsc += grados[i][grado][1]\n",
    "        grados[i][grado][1] = acumEsc / acumNodos\n",
    "        grados[i][grado][0] = acumNodos / n\n",
    "    x[i],y[i] = zip(*list(grados[i].values()))"
   ]
  },
  {
   "cell_type": "code",
   "execution_count": 17,
   "metadata": {},
   "outputs": [
    {
     "data": {
      "image/png": "[encoded data removed]",
      "text/plain": [
       "<matplotlib.figure.Figure at 0x7f10bc811f60>"
      ]
     },
     "metadata": {
      "needs_background": "light"
     },
     "output_type": "display_data"
    }
   ],
   "source": [
    "plt.figure(figsize=(10,7))\n",
    "plt.plot(x[0],y[0],'r-', label='Literatura')\n",
    "plt.plot(x[1],y[1],'g-', label='AP-MS')\n",
    "plt.plot(x[2],y[2],'b-', label='Y2H')\n",
    "plt.title('')\n",
    "plt.xlabel('Cut-off del grado de los hubs')\n",
    "plt.ylabel('% de nodos esenciales entre los hubs')\n",
    "plt.legend()\n",
    "plt.grid(True)"
   ]
  },
  {
   "cell_type": "markdown",
   "metadata": {},
   "source": [
    "## C) Vulnerabilidad"
   ]
  },
  {
   "cell_type": "code",
   "execution_count": 49,
   "metadata": {},
   "outputs": [],
   "source": [
    "def no_esenciales(red, esenciales = lista_escenciales):\n",
    "    red_aux = red.copy()\n",
    "    red_aux.remove_nodes_from(esenciales)\n",
    "    return list(red_aux.nodes())"
   ]
  },
  {
   "cell_type": "code",
   "execution_count": 50,
   "metadata": {},
   "outputs": [],
   "source": [
    "lista_no_esenciales = no_esenciales(red)"
   ]
  },
  {
   "cell_type": "code",
   "execution_count": 60,
   "metadata": {},
   "outputs": [],
   "source": [
    "red = red_apms\n",
    "  \n",
    "medidas_centr = [lambda x: nx.degree_centrality(x), \n",
    "                 lambda x: nx.eigenvector_centrality(x, tol = 200),\n",
    "                 lambda x: nx.betweenness_centrality(x),\n",
    "                 lambda x: nx.current_flow_betweenness_centrality(x),\n",
    "                 lambda x: nx.subgraph_centrality(x),\n",
    "                 'Random']\n",
    "nombres_med = ['Degree Centrality','eigen','betweenness', 'current flow', 'subgraph', 'random']\n",
    "\n",
    "fracciones = defaultdict()"
   ]
  },
  {
   "cell_type": "code",
   "execution_count": 62,
   "metadata": {},
   "outputs": [
    {
     "name": "stdout",
     "output_type": "stream",
     "text": [
      "Degree Centrality\n"
     ]
    },
    {
     "ename": "ZeroDivisionError",
     "evalue": "float division by zero",
     "output_type": "error",
     "traceback": [
      "\u001b[0;31m--------------------------------------------------------------------------\u001b[0m",
      "\u001b[0;31mZeroDivisionError\u001b[0m                        Traceback (most recent call last)",
      "\u001b[0;32m<ipython-input-62-88959493358e>\u001b[0m in \u001b[0;36m<module>\u001b[0;34m()\u001b[0m\n\u001b[1;32m     22\u001b[0m                 \u001b[0mGC\u001b[0m \u001b[0;34m=\u001b[0m \u001b[0mmax\u001b[0m\u001b[0;34m(\u001b[0m\u001b[0mnx\u001b[0m\u001b[0;34m.\u001b[0m\u001b[0mconnected_component_subgraphs\u001b[0m\u001b[0;34m(\u001b[0m\u001b[0mGC\u001b[0m\u001b[0;34m)\u001b[0m\u001b[0;34m,\u001b[0m \u001b[0mkey\u001b[0m\u001b[0;34m=\u001b[0m\u001b[0mlen\u001b[0m\u001b[0;34m)\u001b[0m\u001b[0;34m\u001b[0m\u001b[0m\n\u001b[0;32m---> 23\u001b[0;31m                 \u001b[0mcentralidad\u001b[0m \u001b[0;34m=\u001b[0m \u001b[0msorted\u001b[0m\u001b[0;34m(\u001b[0m\u001b[0mmedida\u001b[0m\u001b[0;34m(\u001b[0m\u001b[0mGC\u001b[0m\u001b[0;34m)\u001b[0m\u001b[0;34m.\u001b[0m\u001b[0mitems\u001b[0m\u001b[0;34m(\u001b[0m\u001b[0;34m)\u001b[0m\u001b[0;34m,\u001b[0m \u001b[0mkey\u001b[0m \u001b[0;34m=\u001b[0m \u001b[0;32mlambda\u001b[0m \u001b[0mx\u001b[0m\u001b[0;34m:\u001b[0m \u001b[0mx\u001b[0m\u001b[0;34m[\u001b[0m\u001b[0;36m1\u001b[0m\u001b[0;34m]\u001b[0m\u001b[0;34m)\u001b[0m\u001b[0;34m\u001b[0m\u001b[0m\n\u001b[0m\u001b[1;32m     24\u001b[0m                 \u001b[0mGC\u001b[0m\u001b[0;34m.\u001b[0m\u001b[0mremove_node\u001b[0m\u001b[0;34m(\u001b[0m\u001b[0mcentralidad\u001b[0m\u001b[0;34m[\u001b[0m\u001b[0;34m-\u001b[0m\u001b[0;36m1\u001b[0m\u001b[0;34m:\u001b[0m\u001b[0;34m]\u001b[0m\u001b[0;34m[\u001b[0m\u001b[0;36m0\u001b[0m\u001b[0;34m]\u001b[0m\u001b[0;34m[\u001b[0m\u001b[0;36m0\u001b[0m\u001b[0;34m]\u001b[0m\u001b[0;34m)\u001b[0m\u001b[0;34m\u001b[0m\u001b[0m\n",
      "\u001b[0;32m<ipython-input-60-007ef9df5d48>\u001b[0m in \u001b[0;36m<lambda>\u001b[0;34m(x)\u001b[0m\n\u001b[1;32m      2\u001b[0m \u001b[0;34m\u001b[0m\u001b[0m\n\u001b[0;32m----> 3\u001b[0;31m medidas_centr = [lambda x: nx.degree_centrality(x), \n\u001b[0m\u001b[1;32m      4\u001b[0m                  \u001b[0;32mlambda\u001b[0m \u001b[0mx\u001b[0m\u001b[0;34m:\u001b[0m \u001b[0mnx\u001b[0m\u001b[0;34m.\u001b[0m\u001b[0meigenvector_centrality\u001b[0m\u001b[0;34m(\u001b[0m\u001b[0mx\u001b[0m\u001b[0;34m,\u001b[0m \u001b[0mtol\u001b[0m \u001b[0;34m=\u001b[0m \u001b[0;36m200\u001b[0m\u001b[0;34m)\u001b[0m\u001b[0;34m,\u001b[0m\u001b[0;34m\u001b[0m\u001b[0m\n",
      "\u001b[0;32m~/anaconda3/lib/python3.6/site-packages/networkx/algorithms/centrality/degree_alg.py\u001b[0m in \u001b[0;36mdegree_centrality\u001b[0;34m(G)\u001b[0m\n\u001b[1;32m     49\u001b[0m     \u001b[0mcentrality\u001b[0m \u001b[0;34m=\u001b[0m \u001b[0;34m{\u001b[0m\u001b[0;34m}\u001b[0m\u001b[0;34m\u001b[0m\u001b[0m\n\u001b[0;32m---> 50\u001b[0;31m     \u001b[0ms\u001b[0m \u001b[0;34m=\u001b[0m \u001b[0;36m1.0\u001b[0m \u001b[0;34m/\u001b[0m \u001b[0;34m(\u001b[0m\u001b[0mlen\u001b[0m\u001b[0;34m(\u001b[0m\u001b[0mG\u001b[0m\u001b[0;34m)\u001b[0m \u001b[0;34m-\u001b[0m \u001b[0;36m1.0\u001b[0m\u001b[0;34m)\u001b[0m\u001b[0;34m\u001b[0m\u001b[0m\n\u001b[0m\u001b[1;32m     51\u001b[0m     \u001b[0mcentrality\u001b[0m \u001b[0;34m=\u001b[0m \u001b[0;34m{\u001b[0m\u001b[0mn\u001b[0m\u001b[0;34m:\u001b[0m \u001b[0md\u001b[0m \u001b[0;34m*\u001b[0m \u001b[0ms\u001b[0m \u001b[0;32mfor\u001b[0m \u001b[0mn\u001b[0m\u001b[0;34m,\u001b[0m \u001b[0md\u001b[0m \u001b[0;32min\u001b[0m \u001b[0mG\u001b[0m\u001b[0;34m.\u001b[0m\u001b[0mdegree\u001b[0m\u001b[0;34m(\u001b[0m\u001b[0;34m)\u001b[0m\u001b[0;34m}\u001b[0m\u001b[0;34m\u001b[0m\u001b[0m\n",
      "\u001b[0;31mZeroDivisionError\u001b[0m: float division by zero",
      "\nDuring handling of the above exception, another exception occurred:\n",
      "\u001b[0;31mZeroDivisionError\u001b[0m                        Traceback (most recent call last)",
      "\u001b[0;32m<ipython-input-62-88959493358e>\u001b[0m in \u001b[0;36m<module>\u001b[0;34m()\u001b[0m\n\u001b[1;32m     27\u001b[0m \u001b[0;34m\u001b[0m\u001b[0m\n\u001b[1;32m     28\u001b[0m             \u001b[0;32mexcept\u001b[0m \u001b[0mZeroDivisionError\u001b[0m\u001b[0;34m:\u001b[0m\u001b[0;34m\u001b[0m\u001b[0m\n\u001b[0;32m---> 29\u001b[0;31m                 \u001b[0mprint\u001b[0m\u001b[0;34m(\u001b[0m\u001b[0mmedida\u001b[0m\u001b[0;34m(\u001b[0m\u001b[0mGC\u001b[0m\u001b[0;34m)\u001b[0m\u001b[0;34m)\u001b[0m\u001b[0;34m\u001b[0m\u001b[0m\n\u001b[0m\u001b[1;32m     30\u001b[0m \u001b[0;34m\u001b[0m\u001b[0m\n\u001b[1;32m     31\u001b[0m \u001b[0;34m\u001b[0m\u001b[0m\n",
      "\u001b[0;32m<ipython-input-60-007ef9df5d48>\u001b[0m in \u001b[0;36m<lambda>\u001b[0;34m(x)\u001b[0m\n\u001b[1;32m      1\u001b[0m \u001b[0mred\u001b[0m \u001b[0;34m=\u001b[0m \u001b[0mred_apms\u001b[0m\u001b[0;34m\u001b[0m\u001b[0m\n\u001b[1;32m      2\u001b[0m \u001b[0;34m\u001b[0m\u001b[0m\n\u001b[0;32m----> 3\u001b[0;31m medidas_centr = [lambda x: nx.degree_centrality(x), \n\u001b[0m\u001b[1;32m      4\u001b[0m                  \u001b[0;32mlambda\u001b[0m \u001b[0mx\u001b[0m\u001b[0;34m:\u001b[0m \u001b[0mnx\u001b[0m\u001b[0;34m.\u001b[0m\u001b[0meigenvector_centrality\u001b[0m\u001b[0;34m(\u001b[0m\u001b[0mx\u001b[0m\u001b[0;34m,\u001b[0m \u001b[0mtol\u001b[0m \u001b[0;34m=\u001b[0m \u001b[0;36m200\u001b[0m\u001b[0;34m)\u001b[0m\u001b[0;34m,\u001b[0m\u001b[0;34m\u001b[0m\u001b[0m\n\u001b[1;32m      5\u001b[0m                  \u001b[0;32mlambda\u001b[0m \u001b[0mx\u001b[0m\u001b[0;34m:\u001b[0m \u001b[0mnx\u001b[0m\u001b[0;34m.\u001b[0m\u001b[0mbetweenness_centrality\u001b[0m\u001b[0;34m(\u001b[0m\u001b[0mx\u001b[0m\u001b[0;34m)\u001b[0m\u001b[0;34m,\u001b[0m\u001b[0;34m\u001b[0m\u001b[0m\n",
      "\u001b[0;32m~/anaconda3/lib/python3.6/site-packages/networkx/algorithms/centrality/degree_alg.py\u001b[0m in \u001b[0;36mdegree_centrality\u001b[0;34m(G)\u001b[0m\n\u001b[1;32m     48\u001b[0m     \"\"\"\n\u001b[1;32m     49\u001b[0m     \u001b[0mcentrality\u001b[0m \u001b[0;34m=\u001b[0m \u001b[0;34m{\u001b[0m\u001b[0;34m}\u001b[0m\u001b[0;34m\u001b[0m\u001b[0m\n\u001b[0;32m---> 50\u001b[0;31m     \u001b[0ms\u001b[0m \u001b[0;34m=\u001b[0m \u001b[0;36m1.0\u001b[0m \u001b[0;34m/\u001b[0m \u001b[0;34m(\u001b[0m\u001b[0mlen\u001b[0m\u001b[0;34m(\u001b[0m\u001b[0mG\u001b[0m\u001b[0;34m)\u001b[0m \u001b[0;34m-\u001b[0m \u001b[0;36m1.0\u001b[0m\u001b[0;34m)\u001b[0m\u001b[0;34m\u001b[0m\u001b[0m\n\u001b[0m\u001b[1;32m     51\u001b[0m     \u001b[0mcentrality\u001b[0m \u001b[0;34m=\u001b[0m \u001b[0;34m{\u001b[0m\u001b[0mn\u001b[0m\u001b[0;34m:\u001b[0m \u001b[0md\u001b[0m \u001b[0;34m*\u001b[0m \u001b[0ms\u001b[0m \u001b[0;32mfor\u001b[0m \u001b[0mn\u001b[0m\u001b[0;34m,\u001b[0m \u001b[0md\u001b[0m \u001b[0;32min\u001b[0m \u001b[0mG\u001b[0m\u001b[0;34m.\u001b[0m\u001b[0mdegree\u001b[0m\u001b[0;34m(\u001b[0m\u001b[0;34m)\u001b[0m\u001b[0;34m}\u001b[0m\u001b[0;34m\u001b[0m\u001b[0m\n\u001b[1;32m     52\u001b[0m     \u001b[0;32mreturn\u001b[0m \u001b[0mcentrality\u001b[0m\u001b[0;34m\u001b[0m\u001b[0m\n",
      "\u001b[0;31mZeroDivisionError\u001b[0m: float division by zero"
     ]
    }
   ],
   "source": [
    "for medida, nombre in zip(medidas_centr,nombres_med):\n",
    "    GC = max(nx.connected_component_subgraphs(red), key=len)\n",
    "    n = GC.number_of_nodes()\n",
    "    fraccion = []\n",
    "    i=0\n",
    "    print(nombre)\n",
    "    if medida == 'Random':\n",
    "        while i<100:\n",
    "\n",
    "            GC = max(nx.connected_component_subgraphs(GC), key=len)\n",
    "            lista_no_esenciales = no_esenciales(GC)\n",
    "            nodo = choice(lista_no_esenciales)\n",
    "            GC.remove_node(nodo)\n",
    "            fraccion.append(GC.number_of_nodes()/n)\n",
    "            i+=1\n",
    "        \n",
    "        fracciones[nombre] = fraccion\n",
    "        \n",
    "    else:\n",
    "        while i<100:\n",
    "            try:\n",
    "                GC = max(nx.connected_component_subgraphs(GC), key=len)\n",
    "                centralidad = sorted(medida(GC).items(), key = lambda x: x[1])\n",
    "                GC.remove_node(centralidad[-1:][0][0])\n",
    "                fraccion.append(GC.number_of_nodes()/n)\n",
    "                i+=1\n",
    "            \n",
    "            except ZeroDivisionError:\n",
    "                print(medida(GC))    \n",
    "                \n",
    "        fracciones[nombre] = fraccion"
   ]
  },
  {
   "cell_type": "code",
   "execution_count": 57,
   "metadata": {},
   "outputs": [
    {
     "data": {
      "text/plain": [
       "defaultdict(None, {})"
      ]
     },
     "execution_count": 57,
     "metadata": {},
     "output_type": "execute_result"
    }
   ],
   "source": [
    "fracciones"
   ]
  }
 ],
 "metadata": {
  "kernelspec": {
   "display_name": "Python 3",
   "language": "python",
   "name": "python3"
  },
  "language_info": {
   "codemirror_mode": {
    "name": "ipython",
    "version": 3
   },
   "file_extension": ".py",
   "mimetype": "text/x-python",
   "name": "python",
   "nbconvert_exporter": "python",
   "pygments_lexer": "ipython3",
   "version": "3.6.6"
  }
 },
 "nbformat": 4,
 "nbformat_minor": 2
}
