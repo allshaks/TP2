{
 "cells": [
  {
   "cell_type": "code",
   "execution_count": 42,
   "metadata": {
    "scrolled": true
   },
   "outputs": [],
   "source": [
    "import os\n",
    "import numpy as np\n",
    "import scipy as sp\n",
    "import pandas as pd\n",
    "import networkx as nx\n",
    "import matplotlib.pylab as plt\n",
    "\n",
    "%matplotlib inline\n",
    "\n",
    "from urllib.request import urlopen\n",
    "from pathlib import Path"
   ]
  },
  {
   "cell_type": "markdown",
   "metadata": {},
   "source": [
    "## Carga de datos"
   ]
  },
  {
   "cell_type": "code",
   "execution_count": 2,
   "metadata": {},
   "outputs": [],
   "source": [
    "red_lit = nx.read_edgelist('./Material_de_interes/tc02Data/yeast_LIT.txt')\n",
    "red_apms = nx.read_edgelist('./Material_de_interes/tc02Data/yeast_AP-MS.txt')\n",
    "red_bin = nx.read_edgelist('./Material_de_interes/tc02Data/yeast_Y2H.txt')"
   ]
  },
  {
   "cell_type": "code",
   "execution_count": 44,
   "metadata": {},
   "outputs": [],
   "source": [
    "escenciales = open('./Datos/Essential_ORFs_paperHe2.txt')\n",
    "lista_escenciales = []\n",
    "for line in escenciales:\n",
    "    lista_escenciales.append(line.rstrip('\\n'))"
   ]
  },
  {
   "cell_type": "code",
   "execution_count": 59,
   "metadata": {},
   "outputs": [],
   "source": [
    "def nodos_esenciales(red, lista_atr = lista_escenciales, atributo = 'Escencial'):\n",
    "    \n",
    "    dict_vacio = dict()\n",
    "    nx.set_node_attributes(red, dict_vacio.fromkeys(list(red.nodes()),0), atributo )\n",
    "    \n",
    "    for nodo in lista_atr:\n",
    "        try:\n",
    "            red.nodes[nodo][atributo] = 1\n",
    "        except KeyError:\n",
    "            continue\n",
    "            \n",
    "    return None"
   ]
  },
  {
   "cell_type": "code",
   "execution_count": 64,
   "metadata": {},
   "outputs": [],
   "source": [
    "nodos_esenciales(red_lit)\n",
    "nodos_esenciales(red_bin)\n",
    "nodos_esenciales(red_apms)"
   ]
  },
  {
   "cell_type": "code",
   "execution_count": 3,
   "metadata": {},
   "outputs": [],
   "source": [
    "red_df = pd.read_csv('./Material_de_interes/tc02Data/yeast_LIT_Reguly.txt',sep=\"\\t\", header=0)"
   ]
  },
  {
   "cell_type": "code",
   "execution_count": 4,
   "metadata": {
    "scrolled": true
   },
   "outputs": [
    {
     "data": {
      "text/html": [
       "<div>\n",
       "<style scoped>\n",
       "    .dataframe tbody tr th:only-of-type {\n",
       "        vertical-align: middle;\n",
       "    }\n",
       "\n",
       "    .dataframe tbody tr th {\n",
       "        vertical-align: top;\n",
       "    }\n",
       "\n",
       "    .dataframe thead th {\n",
       "        text-align: right;\n",
       "    }\n",
       "</style>\n",
       "<table border=\"1\" class=\"dataframe\">\n",
       "  <thead>\n",
       "    <tr style=\"text-align: right;\">\n",
       "      <th></th>\n",
       "      <th>Bait gene/protein</th>\n",
       "      <th>Hit gene/protein</th>\n",
       "      <th>Bait Standard Name</th>\n",
       "      <th>Hit Standard Name</th>\n",
       "      <th>Experimental System</th>\n",
       "      <th>Source</th>\n",
       "      <th>PubMed ID</th>\n",
       "    </tr>\n",
       "  </thead>\n",
       "  <tbody>\n",
       "    <tr>\n",
       "      <th>0</th>\n",
       "      <td>YBR236C</td>\n",
       "      <td>YML010W</td>\n",
       "      <td>ABD1</td>\n",
       "      <td>SPT5</td>\n",
       "      <td>Affinity Capture-MS</td>\n",
       "      <td>Lindstrom DL et al</td>\n",
       "      <td>12556496</td>\n",
       "    </tr>\n",
       "    <tr>\n",
       "      <th>1</th>\n",
       "      <td>YML010W</td>\n",
       "      <td>YBR236C</td>\n",
       "      <td>SPT5</td>\n",
       "      <td>ABD1</td>\n",
       "      <td>Affinity Capture-MS</td>\n",
       "      <td>Lindstrom DL et al</td>\n",
       "      <td>12556496</td>\n",
       "    </tr>\n",
       "    <tr>\n",
       "      <th>2</th>\n",
       "      <td>YDR448W</td>\n",
       "      <td>YPL254W</td>\n",
       "      <td>ADA2</td>\n",
       "      <td>HFI1</td>\n",
       "      <td>Affinity Capture-MS</td>\n",
       "      <td>Rodriguez-Navarro S et al</td>\n",
       "      <td>14718168</td>\n",
       "    </tr>\n",
       "    <tr>\n",
       "      <th>3</th>\n",
       "      <td>YDR448W</td>\n",
       "      <td>YDR176W</td>\n",
       "      <td>ADA2</td>\n",
       "      <td>NGG1</td>\n",
       "      <td>Affinity Capture-MS</td>\n",
       "      <td>Rodriguez-Navarro S et al</td>\n",
       "      <td>14718168</td>\n",
       "    </tr>\n",
       "    <tr>\n",
       "      <th>4</th>\n",
       "      <td>YDR448W</td>\n",
       "      <td>YOR257W</td>\n",
       "      <td>ADA2</td>\n",
       "      <td>CDC31</td>\n",
       "      <td>Affinity Capture-MS</td>\n",
       "      <td>Rodriguez-Navarro S et al</td>\n",
       "      <td>14718168</td>\n",
       "    </tr>\n",
       "  </tbody>\n",
       "</table>\n",
       "</div>"
      ],
      "text/plain": [
       "  Bait gene/protein Hit gene/protein Bait Standard Name Hit Standard Name  \\\n",
       "0           YBR236C          YML010W               ABD1              SPT5   \n",
       "1           YML010W          YBR236C               SPT5              ABD1   \n",
       "2           YDR448W          YPL254W               ADA2              HFI1   \n",
       "3           YDR448W          YDR176W               ADA2              NGG1   \n",
       "4           YDR448W          YOR257W               ADA2             CDC31   \n",
       "\n",
       "   Experimental System                     Source  PubMed ID  \n",
       "0  Affinity Capture-MS         Lindstrom DL et al   12556496  \n",
       "1  Affinity Capture-MS         Lindstrom DL et al   12556496  \n",
       "2  Affinity Capture-MS  Rodriguez-Navarro S et al   14718168  \n",
       "3  Affinity Capture-MS  Rodriguez-Navarro S et al   14718168  \n",
       "4  Affinity Capture-MS  Rodriguez-Navarro S et al   14718168  "
      ]
     },
     "execution_count": 4,
     "metadata": {},
     "output_type": "execute_result"
    }
   ],
   "source": [
    "red_df.head()"
   ]
  },
  {
   "cell_type": "markdown",
   "metadata": {},
   "source": [
    "## Características de las redes"
   ]
  },
  {
   "cell_type": "markdown",
   "metadata": {},
   "source": [
    "#### Tabla 1"
   ]
  },
  {
   "cell_type": "code",
   "execution_count": 5,
   "metadata": {},
   "outputs": [],
   "source": [
    "import herramientas_redes as hr"
   ]
  },
  {
   "cell_type": "code",
   "execution_count": 6,
   "metadata": {},
   "outputs": [],
   "source": [
    "redes = [red_apms, red_bin, red_lit]\n",
    "props = []\n",
    "\n",
    "for red in redes:\n",
    "    props.append(hr.propiedades(red))\n",
    "sRed = ['Red AP-MS','Red Y2H', 'Red Literatura']"
   ]
  },
  {
   "cell_type": "code",
   "execution_count": 7,
   "metadata": {
    "scrolled": true
   },
   "outputs": [
    {
     "data": {
      "text/html": [
       "<div>\n",
       "<style scoped>\n",
       "    .dataframe tbody tr th:only-of-type {\n",
       "        vertical-align: middle;\n",
       "    }\n",
       "\n",
       "    .dataframe tbody tr th {\n",
       "        vertical-align: top;\n",
       "    }\n",
       "\n",
       "    .dataframe thead th {\n",
       "        text-align: right;\n",
       "    }\n",
       "</style>\n",
       "<table border=\"1\" class=\"dataframe\">\n",
       "  <thead>\n",
       "    <tr style=\"text-align: right;\">\n",
       "      <th></th>\n",
       "      <th>Clustering medio</th>\n",
       "      <th>Enlaces</th>\n",
       "      <th>Grado promedio</th>\n",
       "      <th>Nodos</th>\n",
       "    </tr>\n",
       "  </thead>\n",
       "  <tbody>\n",
       "    <tr>\n",
       "      <th>Red AP-MS</th>\n",
       "      <td>0.554636</td>\n",
       "      <td>9070</td>\n",
       "      <td>11.183724</td>\n",
       "      <td>1622</td>\n",
       "    </tr>\n",
       "    <tr>\n",
       "      <th>Red Y2H</th>\n",
       "      <td>0.046194</td>\n",
       "      <td>2930</td>\n",
       "      <td>2.903865</td>\n",
       "      <td>2018</td>\n",
       "    </tr>\n",
       "    <tr>\n",
       "      <th>Red Literatura</th>\n",
       "      <td>0.292492</td>\n",
       "      <td>2925</td>\n",
       "      <td>3.808594</td>\n",
       "      <td>1536</td>\n",
       "    </tr>\n",
       "  </tbody>\n",
       "</table>\n",
       "</div>"
      ],
      "text/plain": [
       "                Clustering medio  Enlaces  Grado promedio  Nodos\n",
       "Red AP-MS               0.554636     9070       11.183724   1622\n",
       "Red Y2H                 0.046194     2930        2.903865   2018\n",
       "Red Literatura          0.292492     2925        3.808594   1536"
      ]
     },
     "execution_count": 7,
     "metadata": {},
     "output_type": "execute_result"
    }
   ],
   "source": [
    "pd.DataFrame(props, index=sRed).drop(['Densidad', 'Diámetro', 'Grado max', 'Grado min', 'Transitividad'], axis = 1)"
   ]
  },
  {
   "cell_type": "markdown",
   "metadata": {},
   "source": [
    "#### Tabla 2"
   ]
  },
  {
   "cell_type": "code",
   "execution_count": 8,
   "metadata": {},
   "outputs": [],
   "source": [
    "def overlap_enlaces(red1, red2):\n",
    "    \n",
    "    nodos = set(list(red1.nodes())+list(red2.nodes()))\n",
    "    counter = 0\n",
    "    for nodo in nodos:\n",
    "        try:\n",
    "            l1 = list(red1[nodo])\n",
    "            l2 = list(red2[nodo])\n",
    "            if l1 and l2:\n",
    "                counter += len(hr.intersect(l1,l2))\n",
    "        except KeyError:\n",
    "            continue\n",
    "    cantidad = counter/2\n",
    "    \n",
    "    return [ cantidad/ red1.number_of_edges(), cantidad/ red2.number_of_edges()]"
   ]
  },
  {
   "cell_type": "code",
   "execution_count": 9,
   "metadata": {},
   "outputs": [],
   "source": [
    "lista_apms_lit = overlap_enlaces(red_apms, red_lit)\n",
    "lista_lit_y2h = overlap_enlaces(red_lit,red_bin)\n",
    "lista_y2h_apms = overlap_enlaces(red_bin,red_apms)"
   ]
  },
  {
   "cell_type": "code",
   "execution_count": 10,
   "metadata": {},
   "outputs": [],
   "source": [
    "tabla = pd.DataFrame(np.nan, columns = sRed, index = sRed)\n",
    "tabla.loc['Red AP-MS']['Red Y2H'] = lista_y2h_apms[1]\n",
    "tabla.loc['Red Y2H']['Red AP-MS'] = lista_y2h_apms[0]\n",
    "tabla.loc['Red AP-MS']['Red Literatura'] = lista_apms_lit[0]\n",
    "tabla.loc['Red Literatura']['Red AP-MS'] = lista_apms_lit[1]\n",
    "tabla.loc['Red Literatura']['Red Y2H'] = lista_lit_y2h[0]\n",
    "tabla.loc['Red Y2H']['Red Literatura'] = lista_lit_y2h[1]\n",
    "tabla.loc['Red Y2H']['Red Y2H'] = 1 #'Red Y2H'\n",
    "tabla.loc['Red Literatura']['Red Literatura'] = 1 #'Red Literatura'\n",
    "tabla.loc['Red AP-MS']['Red AP-MS'] = 1 #'Red AP-MS'"
   ]
  },
  {
   "cell_type": "code",
   "execution_count": 11,
   "metadata": {},
   "outputs": [
    {
     "data": {
      "text/html": [
       "<div>\n",
       "<style scoped>\n",
       "    .dataframe tbody tr th:only-of-type {\n",
       "        vertical-align: middle;\n",
       "    }\n",
       "\n",
       "    .dataframe tbody tr th {\n",
       "        vertical-align: top;\n",
       "    }\n",
       "\n",
       "    .dataframe thead th {\n",
       "        text-align: right;\n",
       "    }\n",
       "</style>\n",
       "<table border=\"1\" class=\"dataframe\">\n",
       "  <thead>\n",
       "    <tr style=\"text-align: right;\">\n",
       "      <th></th>\n",
       "      <th>Red AP-MS</th>\n",
       "      <th>Red Y2H</th>\n",
       "      <th>Red Literatura</th>\n",
       "    </tr>\n",
       "  </thead>\n",
       "  <tbody>\n",
       "    <tr>\n",
       "      <th>Red AP-MS</th>\n",
       "      <td>1.000000</td>\n",
       "      <td>0.028666</td>\n",
       "      <td>0.143109</td>\n",
       "    </tr>\n",
       "    <tr>\n",
       "      <th>Red Y2H</th>\n",
       "      <td>0.088737</td>\n",
       "      <td>1.000000</td>\n",
       "      <td>0.087201</td>\n",
       "    </tr>\n",
       "    <tr>\n",
       "      <th>Red Literatura</th>\n",
       "      <td>0.443761</td>\n",
       "      <td>0.087350</td>\n",
       "      <td>1.000000</td>\n",
       "    </tr>\n",
       "  </tbody>\n",
       "</table>\n",
       "</div>"
      ],
      "text/plain": [
       "                Red AP-MS   Red Y2H  Red Literatura\n",
       "Red AP-MS        1.000000  0.028666        0.143109\n",
       "Red Y2H          0.088737  1.000000        0.087201\n",
       "Red Literatura   0.443761  0.087350        1.000000"
      ]
     },
     "execution_count": 11,
     "metadata": {},
     "output_type": "execute_result"
    }
   ],
   "source": [
    "tabla"
   ]
  }
 ],
 "metadata": {
  "kernelspec": {
   "display_name": "Python 3",
   "language": "python",
   "name": "python3"
  },
  "language_info": {
   "codemirror_mode": {
    "name": "ipython",
    "version": 3
   },
   "file_extension": ".py",
   "mimetype": "text/x-python",
   "name": "python",
   "nbconvert_exporter": "python",
   "pygments_lexer": "ipython3",
   "version": "3.6.5"
  }
 },
 "nbformat": 4,
 "nbformat_minor": 2
}
