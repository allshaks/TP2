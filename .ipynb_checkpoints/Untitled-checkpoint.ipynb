{
 "cells": [
  {
   "cell_type": "code",
   "execution_count": 134,
   "metadata": {
    "collapsed": true
   },
   "outputs": [],
   "source": [
    "import os\n",
    "import numpy as np\n",
    "import scipy as sp\n",
    "import pandas as pd\n",
    "import networkx as nx\n",
    "import matplotlib.pylab as plt\n",
    "\n",
    "%matplotlib inline\n",
    "\n",
    "from urllib.request import urlopen\n",
    "from pathlib import Path\n",
    "from collections import defaultdict\n",
    "from random import choice\n",
    "from random import sample"
   ]
  },
  {
   "cell_type": "code",
   "execution_count": 77,
   "metadata": {
    "collapsed": true
   },
   "outputs": [],
   "source": [
    "red_lit = nx.read_edgelist('./Material_de_interes/tc02Data/yeast_LIT.txt')\n",
    "red_apms = nx.read_edgelist('./Material_de_interes/tc02Data/yeast_AP-MS.txt')\n",
    "red_bin = nx.read_edgelist('./Material_de_interes/tc02Data/yeast_Y2H.txt')"
   ]
  },
  {
   "cell_type": "code",
   "execution_count": 67,
   "metadata": {
    "collapsed": true
   },
   "outputs": [],
   "source": [
    "escenciales = open('./Datos/Essential_ORFs_paperHe2.txt')\n",
    "lista_escenciales = []\n",
    "\n",
    "for line in escenciales:\n",
    "    lista_escenciales.append(line.rstrip('\\n'))"
   ]
  },
  {
   "cell_type": "code",
   "execution_count": 68,
   "metadata": {
    "collapsed": true
   },
   "outputs": [],
   "source": [
    "def nodos_esenciales(red, lista_atr = lista_escenciales, atributo = 'Esencial'):\n",
    "    \n",
    "    dict_vacio = dict()\n",
    "    nx.set_node_attributes(red, dict_vacio.fromkeys(list(red.nodes()),0), atributo )\n",
    "    \n",
    "    for nodo in lista_atr:\n",
    "        try:\n",
    "            red.nodes[nodo][atributo] = 1\n",
    "        except KeyError:\n",
    "            continue\n",
    "            \n",
    "    return None"
   ]
  },
  {
   "cell_type": "code",
   "execution_count": 78,
   "metadata": {
    "collapsed": true
   },
   "outputs": [],
   "source": [
    "nodos_esenciales(red_lit)\n",
    "nodos_esenciales(red_bin)\n",
    "nodos_esenciales(red_apms)"
   ]
  },
  {
   "cell_type": "code",
   "execution_count": 116,
   "metadata": {
    "collapsed": true
   },
   "outputs": [],
   "source": [
    "def nodosEsenciales(red, esenciales = lista_escenciales, atributo = 'Esencial'):\n",
    "    red_aux = red.copy()\n",
    "    red_aux.remove_nodes_from(list(nodosNoEsenciales(red).nodes()))\n",
    "    return red_aux.nodes()"
   ]
  },
  {
   "cell_type": "code",
   "execution_count": 117,
   "metadata": {
    "collapsed": true
   },
   "outputs": [],
   "source": [
    "def nodosNoEsenciales(red, esenciales = lista_escenciales):\n",
    "    red_aux = red.copy()\n",
    "    red_aux.remove_nodes_from(esenciales)\n",
    "    return red_aux"
   ]
  },
  {
   "cell_type": "code",
   "execution_count": 118,
   "metadata": {
    "collapsed": true
   },
   "outputs": [],
   "source": [
    "def sacarEsenciales(red):\n",
    "    red_aux = red.copy()\n",
    "    n = red.number_of_nodes()\n",
    "    red_aux.remove_nodes_from(list(nodosEsenciales(red)))\n",
    "    GC = max(nx.connected_component_subgraphs(red_aux), key=len)\n",
    "    return GC.number_of_nodes()/n"
   ]
  },
  {
   "cell_type": "code",
   "execution_count": 73,
   "metadata": {},
   "outputs": [
    {
     "data": {
      "text/plain": [
       "0.22200520833333334"
      ]
     },
     "execution_count": 73,
     "metadata": {},
     "output_type": "execute_result"
    }
   ],
   "source": [
    "sacarEsenciales(red_lit)"
   ]
  },
  {
   "cell_type": "code",
   "execution_count": 107,
   "metadata": {},
   "outputs": [
    {
     "data": {
      "text/plain": [
       "{1: 219,\n",
       " 2: 91,\n",
       " 3: 40,\n",
       " 4: 32,\n",
       " 5: 11,\n",
       " 6: 12,\n",
       " 7: 8,\n",
       " 8: 15,\n",
       " 9: 5,\n",
       " 10: 3,\n",
       " 11: 4,\n",
       " 12: 1,\n",
       " 13: 1,\n",
       " 14: 2,\n",
       " 15: 0,\n",
       " 16: 0,\n",
       " 17: 0,\n",
       " 18: 1,\n",
       " 20: 0,\n",
       " 21: 2,\n",
       " 22: 0,\n",
       " 23: 0,\n",
       " 24: 0,\n",
       " 26: 0,\n",
       " 29: 1,\n",
       " 30: 0,\n",
       " 32: 0,\n",
       " 37: 0,\n",
       " 42: 0,\n",
       " 46: 1,\n",
       " 52: 0,\n",
       " 81: 1,\n",
       " 82: 0,\n",
       " 91: 1}"
      ]
     },
     "execution_count": 107,
     "metadata": {},
     "output_type": "execute_result"
    }
   ],
   "source": [
    "def randomNoEsenciales(red):\n",
    "    \n",
    "    no_esenciales = nodosNoEsenciales(red)\n",
    "    \n",
    "    degs = sorted(set(dict(red.degree()).values()), reverse=True)\n",
    "    esc = dict(red.nodes(data=True))\n",
    "    grados = {d: [0,0] for d in degs}\n",
    "    noEsencXGrado = defaultdict(list)\n",
    "    for nodo, deg in red.degree():\n",
    "        grados[deg][0] += esc[nodo]['Esencial']\n",
    "        grados[deg][1] += 1-esc[nodo]['Esencial']\n",
    "        if (not esc[nodo]['Esencial'])\n",
    "            noEsencXGrado[deg].append(nodo)\n",
    "    for grado in sorted(list(grados.keys())):\n",
    "        i = 0\n",
    "        while dif != 0:\n",
    "            if grados[grado][0] <= grados[grado][1]:\n",
    "                sample_nodos = sample(noEsencXGrado[grado],grados[grado][0])\n",
    "                no_esenciales.remove_nodes_from(sample_nodos)\n",
    "                noEsencXGrado[grado] = [item for item in noEsencXGrado[grado] if item not in sample_nodos]\n",
    "            else:\n",
    "                sample_nodos = sample(noEsencXGrado[grado],grados[grado][1])\n",
    "                no_esenciales.remove_nodes_from(sample_nodos)\n",
    "                noEsencXGrado[grado] = [item for item in noEsencXGrado[grado] if item not in sample_nodos]\n",
    "            dif = grados[grado][0] - grados[grado][1]"
   ]
  },
  {
   "cell_type": "code",
   "execution_count": 128,
   "metadata": {
    "scrolled": true
   },
   "outputs": [
    {
     "data": {
      "text/plain": [
       "[1,\n",
       " 2,\n",
       " 3,\n",
       " 4,\n",
       " 5,\n",
       " 6,\n",
       " 7,\n",
       " 8,\n",
       " 9,\n",
       " 10,\n",
       " 11,\n",
       " 12,\n",
       " 13,\n",
       " 14,\n",
       " 15,\n",
       " 16,\n",
       " 17,\n",
       " 18,\n",
       " 20,\n",
       " 21,\n",
       " 22,\n",
       " 23,\n",
       " 24,\n",
       " 26,\n",
       " 29,\n",
       " 30,\n",
       " 32,\n",
       " 37,\n",
       " 42,\n",
       " 46,\n",
       " 52,\n",
       " 81,\n",
       " 82,\n",
       " 91]"
      ]
     },
     "execution_count": 128,
     "metadata": {},
     "output_type": "execute_result"
    }
   ],
   "source": [
    "degs = sorted(set(dict(red_bin.degree()).values()), reverse=True)\n",
    "esc = dict(red_bin.nodes(data=True))\n",
    "grados = {d: 0 for d in degs}\n",
    "for nodo, deg in red_bin.degree():\n",
    "    grados[deg] += esc[nodo]['Esencial']\n",
    "sorted(list(grados.keys()))"
   ]
  },
  {
   "cell_type": "code",
   "execution_count": 133,
   "metadata": {},
   "outputs": [
    {
     "data": {
      "text/plain": [
       "False"
      ]
     },
     "execution_count": 133,
     "metadata": {},
     "output_type": "execute_result"
    }
   ],
   "source": [
    "not True"
   ]
  },
  {
   "cell_type": "code",
   "execution_count": null,
   "metadata": {
    "collapsed": true
   },
   "outputs": [],
   "source": []
  }
 ],
 "metadata": {
  "kernelspec": {
   "display_name": "Python 3",
   "language": "python",
   "name": "python3"
  },
  "language_info": {
   "codemirror_mode": {
    "name": "ipython",
    "version": 3
   },
   "file_extension": ".py",
   "mimetype": "text/x-python",
   "name": "python",
   "nbconvert_exporter": "python",
   "pygments_lexer": "ipython3",
   "version": "3.5.2"
  }
 },
 "nbformat": 4,
 "nbformat_minor": 2
}
